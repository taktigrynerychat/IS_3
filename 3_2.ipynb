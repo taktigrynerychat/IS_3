{
 "cells": [
  {
   "cell_type": "code",
   "execution_count": 3,
   "metadata": {},
   "outputs": [
    {
     "name": "stdout",
     "output_type": "stream",
     "text": [
      "hello\n"
     ]
    }
   ],
   "source": [
    "print('hello')"
   ]
  },
  {
   "cell_type": "code",
   "execution_count": 9,
   "metadata": {},
   "outputs": [],
   "source": [
    "import surprise\n",
    "from collections import defaultdict\n",
    "\n",
    "from SPARQLWrapper import SPARQLWrapper, JSON\n",
    "from IPython.display import display, HTML\n",
    "import pandas as pd\n",
    "import requests\n",
    "import re"
   ]
  },
  {
   "cell_type": "code",
   "execution_count": 56,
   "metadata": {},
   "outputs": [
    {
     "name": "stdout",
     "output_type": "stream",
     "text": [
      "Enter user ID: 1\n",
      "Estimating biases using als...\n",
      "Computing the cosine similarity matrix...\n",
      "Done computing similarity matrix.\n",
      "User 1:\n"
     ]
    },
    {
     "data": {
      "text/plain": [
       "['L.A. Confidential',\n",
       " 'Santa with Muscles',\n",
       " 'Great Day in Harlem, A',\n",
       " 'Aiqing wansui',\n",
       " \"Someone Else's America\"]"
      ]
     },
     "execution_count": 56,
     "metadata": {},
     "output_type": "execute_result"
    }
   ],
   "source": [
    "k = 4\n",
    "films_count = 5\n",
    "id = input('Enter user ID: ')\n",
    "\n",
    "data = surprise.Dataset.load_builtin('ml-100k')\n",
    "\n",
    "trainset = data.build_full_trainset()\n",
    "sim_options = {'name': 'cosine', 'user_based': True, 'min_support': films_count}\n",
    "algo = surprise.KNNBaseline(k=k, sim_options=sim_options)\n",
    "algo.fit(trainset)\n",
    "\n",
    "testset = trainset.build_anti_testset()\n",
    "testset = filter(lambda x: x[0] == id, testset)\n",
    "\n",
    "predictions = algo.test(testset)\n",
    "\n",
    "top_n = defaultdict(list)\n",
    "for uid, iid, _, est, _ in predictions:\n",
    "    top_n[uid].append((iid, round(est, 3)))\n",
    "\n",
    "for uid, user_ratings in top_n.items():\n",
    "    user_ratings.sort(key=lambda x: x[1], reverse=True)\n",
    "    top_n[uid] = user_ratings[:5]\n",
    "\n",
    "file_name = surprise.get_dataset_dir() + '/ml-100k/ml-100k/u.item'\n",
    "item = {}\n",
    "\n",
    "with open(file_name, 'r') as f:\n",
    "    for line in f:\n",
    "        line = line.split('|')\n",
    "        item[line[0]] = (line[1], line[2])\n",
    "\n",
    "print(f'User {id}:')\n",
    "\n",
    "movies = []\n",
    "for movie_id, rating in top_n[id]:\n",
    "    film = re.sub(r'[\\s]{1}\\([0-9]{4}\\)', \"\", str(item[movie_id][0]))\n",
    "    movies.append(film)\n",
    "#     print(str(movie_id) + \"\\t\" + str(rating) + \"\\t\" + str(item[movie_id]))\n",
    "\n",
    "movies"
   ]
  },
  {
   "cell_type": "code",
   "execution_count": 87,
   "metadata": {},
   "outputs": [],
   "source": [
    "def Sparql(sparql, film):\n",
    "    \n",
    "    queryString = \"\"\"\n",
    "\n",
    "    SELECT DISTINCT ?person ?personLabel ?film ?filmLabel \n",
    "    WHERE {\n",
    "      wd:\"\"\"+ film +\"\"\" wdt:P57 ?person.\n",
    "      ?film wdt:P31 wd:Q11424.\n",
    "      ?film wdt:P57 ?director\n",
    "      FILTER(?director = ?person).\n",
    "      SERVICE wikibase:label { bd:serviceParam wikibase:language \"ru,en\". }\n",
    "    }\n",
    "    \"\"\"\n",
    "    sparql.setQuery(queryString)\n",
    "    sparql.setReturnFormat(JSON)\n",
    "    results = sparql.query().convert()\n",
    "    results_df = pd.io.json.json_normalize(results['results']['bindings'])\n",
    "    return results_df"
   ]
  },
  {
   "cell_type": "code",
   "execution_count": 88,
   "metadata": {},
   "outputs": [
    {
     "data": {
      "text/html": [
       "<h3>L.A. Confidential :</h3>"
      ],
      "text/plain": [
       "<IPython.core.display.HTML object>"
      ]
     },
     "metadata": {},
     "output_type": "display_data"
    },
    {
     "name": "stdout",
     "output_type": "stream",
     "text": [
      "Q339876\n",
      "   personLabel.value          filmLabel.value\n",
      "0      Кёртис Хэнсон               Sweet Kill\n",
      "1      Кёртис Хэнсон       The Little Dragons\n",
      "2      Кёртис Хэнсон           Дурное влияние\n",
      "3      Кёртис Хэнсон         Подальше от тебя\n",
      "4      Кёртис Хэнсон               Дикая река\n",
      "5      Кёртис Хэнсон                Losin' It\n",
      "6      Кёртис Хэнсон    Секреты Лос-Анджелеса\n",
      "7      Кёртис Хэнсон       The Bedroom Window\n",
      "8      Кёртис Хэнсон              Вундеркинды\n",
      "9      Кёртис Хэнсон             Восьмая миля\n",
      "10     Кёртис Хэнсон          Покорители волн\n",
      "11     Кёртис Хэнсон  Рука, качающая колыбель\n",
      "12     Кёртис Хэнсон                 Везунчик\n"
     ]
    },
    {
     "data": {
      "text/html": [
       "<h3>Santa with Muscles :</h3>"
      ],
      "text/plain": [
       "<IPython.core.display.HTML object>"
      ]
     },
     "metadata": {},
     "output_type": "display_data"
    },
    {
     "name": "stdout",
     "output_type": "stream",
     "text": [
      "Q1631700\n",
      "  personLabel.value                filmLabel.value\n",
      "0    John Murlowski                   The Bad Twin\n",
      "1    John Murlowski                 Freeway Killer\n",
      "2    John Murlowski                Чёрный кадиллак\n",
      "3    John Murlowski                 Terminal Error\n",
      "4    John Murlowski                        Cop Dog\n",
      "5    John Murlowski             Богатенький Ричи 2\n",
      "6    John Murlowski  Амитивилль 7: Новое поколение\n",
      "7    John Murlowski                      Q30766080\n",
      "8    John Murlowski              Силач Санта-Клаус\n",
      "9    John Murlowski          The Secret Agent Club\n"
     ]
    },
    {
     "data": {
      "text/html": [
       "<h3>Great Day in Harlem, A :</h3>"
      ],
      "text/plain": [
       "<IPython.core.display.HTML object>"
      ]
     },
     "metadata": {},
     "output_type": "display_data"
    },
    {
     "data": {
      "text/html": [
       "<p>film not found ¯\\_(ツ)_/¯</p>"
      ],
      "text/plain": [
       "<IPython.core.display.HTML object>"
      ]
     },
     "metadata": {},
     "output_type": "display_data"
    },
    {
     "data": {
      "text/html": [
       "<h3>Aiqing wansui :</h3>"
      ],
      "text/plain": [
       "<IPython.core.display.HTML object>"
      ]
     },
     "metadata": {},
     "output_type": "display_data"
    },
    {
     "data": {
      "text/html": [
       "<p>film not found ¯\\_(ツ)_/¯</p>"
      ],
      "text/plain": [
       "<IPython.core.display.HTML object>"
      ]
     },
     "metadata": {},
     "output_type": "display_data"
    },
    {
     "data": {
      "text/html": [
       "<h3>Someone Else's America :</h3>"
      ],
      "text/plain": [
       "<IPython.core.display.HTML object>"
      ]
     },
     "metadata": {},
     "output_type": "display_data"
    },
    {
     "name": "stdout",
     "output_type": "stream",
     "text": [
      "Q7219297\n",
      "    personLabel.value            filmLabel.value\n",
      "0   Паскалевич, Горан             Cabaret Balkan\n",
      "1   Паскалевич, Горан  The Elusive Summer of '68\n",
      "2   Паскалевич, Горан             Bitter Harvest\n",
      "3   Паскалевич, Горан              The Optimists\n",
      "4   Паскалевич, Горан             Guardian Angel\n",
      "5   Паскалевич, Горан              Twilight Time\n",
      "6   Паскалевич, Горан            Tango Argentino\n",
      "7   Паскалевич, Горан            When Day Breaks\n",
      "8   Паскалевич, Горан   The Dog Who Loved Trains\n",
      "9   Паскалевич, Горан      Beach Guard in Winter\n",
      "10  Паскалевич, Горан     Someone Else's America\n",
      "11  Паскалевич, Горан    Midwinter Night's Dream\n",
      "12  Паскалевич, Горан           Time of Miracles\n",
      "13  Паскалевич, Горан          Special Treatment\n",
      "14  Паскалевич, Горан                 Honeymoons\n"
     ]
    }
   ],
   "source": [
    "for movie in movies:\n",
    "    display(HTML('<h3>'+ movie + ' :</h3>'))\n",
    "    params = {'action' : 'wbsearchentities','format' : 'json','language' : 'en','search': movie}\n",
    "    res = requests.get(API_ENDPOINT, params = params)\n",
    "    try:\n",
    "        film = res.json()['search'][0]['id']\n",
    "        print(film)\n",
    "        res = Sparql(sparql, film);\n",
    "        res = res.reindex(columns=['personLabel.value', 'filmLabel.value'])\n",
    "        print(res)\n",
    "  \n",
    "    except:\n",
    "        display(HTML('<p>film not found ¯\\_(ツ)_/¯</p>'))"
   ]
  },
  {
   "cell_type": "code",
   "execution_count": null,
   "metadata": {},
   "outputs": [],
   "source": []
  }
 ],
 "metadata": {
  "kernelspec": {
   "display_name": "Python 3",
   "language": "python",
   "name": "python3"
  },
  "language_info": {
   "codemirror_mode": {
    "name": "ipython",
    "version": 3
   },
   "file_extension": ".py",
   "mimetype": "text/x-python",
   "name": "python",
   "nbconvert_exporter": "python",
   "pygments_lexer": "ipython3",
   "version": "3.7.4"
  }
 },
 "nbformat": 4,
 "nbformat_minor": 2
}
