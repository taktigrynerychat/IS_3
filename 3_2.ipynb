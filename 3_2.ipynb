{
 "cells": [
  {
   "cell_type": "code",
   "execution_count": 2,
   "metadata": {},
   "outputs": [
    {
     "name": "stdout",
     "output_type": "stream",
     "text": [
      "hello\n"
     ]
    }
   ],
   "source": [
    "print('hello')"
   ]
  },
  {
   "cell_type": "code",
   "execution_count": 3,
   "metadata": {},
   "outputs": [],
   "source": [
    "import surprise\n",
    "from collections import defaultdict\n",
    "\n",
    "from SPARQLWrapper import SPARQLWrapper, JSON\n",
    "from IPython.display import display, HTML\n",
    "import pandas as pd\n",
    "import requests\n",
    "import re"
   ]
  },
  {
   "cell_type": "code",
   "execution_count": 14,
   "metadata": {},
   "outputs": [],
   "source": [
    "sparql = SPARQLWrapper(\"https://query.wikidata.org/sparql\", agent='Mozilla/5.0 (Macintosh; Intel Mac OS X 10_11_5) AppleWebKit/537.36 (KHTML, like Gecko) Chrome/50.0.2661.102 Safari/537.36')\n",
    "API_ENDPOINT = \"https://www.wikidata.org/w/api.php\""
   ]
  },
  {
   "cell_type": "code",
   "execution_count": 17,
   "metadata": {},
   "outputs": [
    {
     "name": "stdout",
     "output_type": "stream",
     "text": [
      "Enter user ID: 9\n",
      "Estimating biases using als...\n",
      "Computing the cosine similarity matrix...\n",
      "Done computing similarity matrix.\n",
      "User 9:\n",
      "32\t5\t('Crumb (1994)', '01-Jan-1994')\n",
      "96\t5\t('Terminator 2: Judgment Day (1991)', '01-Jan-1991')\n",
      "430\t5\t('Duck Soup (1933)', '01-Jan-1933')\n",
      "169\t5\t('Wrong Trousers, The (1993)', '01-Jan-1993')\n",
      "509\t5\t('My Left Foot (1989)', '01-Jan-1989')\n"
     ]
    }
   ],
   "source": [
    "k = 4\n",
    "films_count = 5\n",
    "id = input('Enter user ID: ')\n",
    "\n",
    "data = surprise.Dataset.load_builtin('ml-100k')\n",
    "\n",
    "trainset = data.build_full_trainset()\n",
    "sim_options = {'name': 'cosine', 'user_based': True, 'min_support': films_count}\n",
    "algo = surprise.KNNBaseline(k=k, sim_options=sim_options)\n",
    "algo.fit(trainset)\n",
    "\n",
    "testset = trainset.build_anti_testset()\n",
    "testset = filter(lambda x: x[0] == id, testset)\n",
    "\n",
    "predictions = algo.test(testset)\n",
    "\n",
    "top_n = defaultdict(list)\n",
    "for uid, iid, _, est, _ in predictions:\n",
    "    top_n[uid].append((iid, round(est, 3)))\n",
    "\n",
    "for uid, user_ratings in top_n.items():\n",
    "    user_ratings.sort(key=lambda x: x[1], reverse=True)\n",
    "    top_n[uid] = user_ratings[:5]\n",
    "\n",
    "file_name = surprise.get_dataset_dir() + '/ml-100k/ml-100k/u.item'\n",
    "item = {}\n",
    "\n",
    "with open(file_name, 'r') as f:\n",
    "    for line in f:\n",
    "        line = line.split('|')\n",
    "        item[line[0]] = (line[1], line[2])\n",
    "\n",
    "print(f'User {id}:')\n",
    "\n",
    "movies = []\n",
    "for movie_id, rating in top_n[id]:\n",
    "    film = re.sub(r'[\\s]{1}\\([0-9]{4}\\)', \"\", str(item[movie_id][0]))\n",
    "    movies.append(film)\n",
    "    print(str(movie_id) + \"\\t\" + str(rating) + \"\\t\" + str(item[movie_id]))"
   ]
  },
  {
   "cell_type": "code",
   "execution_count": 15,
   "metadata": {},
   "outputs": [],
   "source": [
    "def Sparql(sparql, film):\n",
    "    \n",
    "    queryString = \"\"\"\n",
    "\n",
    "    SELECT DISTINCT ?person ?personLabel ?film ?filmLabel \n",
    "    WHERE {\n",
    "      wd:\"\"\"+ film +\"\"\" wdt:P57 ?person.\n",
    "      ?film wdt:P31 wd:Q11424.\n",
    "      ?film wdt:P57 ?director\n",
    "      FILTER(?director = ?person).\n",
    "      SERVICE wikibase:label { bd:serviceParam wikibase:language \"ru,en\". }\n",
    "    }\n",
    "    \"\"\"\n",
    "    sparql.setQuery(queryString)\n",
    "    sparql.setReturnFormat(JSON)\n",
    "    results = sparql.query().convert()\n",
    "    results_df = pd.io.json.json_normalize(results['results']['bindings'])\n",
    "    return results_df"
   ]
  },
  {
   "cell_type": "code",
   "execution_count": 18,
   "metadata": {},
   "outputs": [
    {
     "data": {
      "text/html": [
       "<h3>Crumb :</h3>"
      ],
      "text/plain": [
       "<IPython.core.display.HTML object>"
      ]
     },
     "metadata": {},
     "output_type": "display_data"
    },
    {
     "name": "stdout",
     "output_type": "stream",
     "text": [
      "Q2619747\n",
      "  personLabel.value    filmLabel.value\n",
      "0     Терри Цвигофф      Мир призраков\n",
      "1     Терри Цвигофф              Крамб\n",
      "2     Терри Цвигофф  Реклама для гения\n",
      "3     Терри Цвигофф       Плохой Санта\n",
      "4     Терри Цвигофф           Луи Блуи\n"
     ]
    },
    {
     "data": {
      "text/html": [
       "<h3>Terminator 2: Judgment Day :</h3>"
      ],
      "text/plain": [
       "<IPython.core.display.HTML object>"
      ]
     },
     "metadata": {},
     "output_type": "display_data"
    },
    {
     "name": "stdout",
     "output_type": "stream",
     "text": [
      "Q170564\n",
      "  personLabel.value            filmLabel.value\n",
      "0    Джеймс Кэмерон                      Чужие\n",
      "1    Джеймс Кэмерон                 Терминатор\n",
      "2    Джеймс Кэмерон       Парк юрского периода\n",
      "3    Джеймс Кэмерон                     Бездна\n",
      "4    Джеймс Кэмерон             Правдивая ложь\n",
      "5    Джеймс Кэмерон                 Titanic 3D\n",
      "6    Джеймс Кэмерон          Пиранья 2: Нерест\n",
      "7    Джеймс Кэмерон  Терминатор 2: Судный день\n",
      "8    Джеймс Кэмерон                  Q55728868\n",
      "9    Джеймс Кэмерон                    Титаник\n"
     ]
    },
    {
     "data": {
      "text/html": [
       "<h3>Duck Soup :</h3>"
      ],
      "text/plain": [
       "<IPython.core.display.HTML object>"
      ]
     },
     "metadata": {},
     "output_type": "display_data"
    },
    {
     "name": "stdout",
     "output_type": "stream",
     "text": [
      "Q1125566\n",
      "   personLabel.value      filmLabel.value\n",
      "0       Маккэри, Лео       Part Time Wife\n",
      "1       Маккэри, Лео     Идти своим путём\n",
      "2       Маккэри, Лео         Млечный Путь\n",
      "3       Маккэри, Лео             Q3205560\n",
      "4       Маккэри, Лео         Blow by Blow\n",
      "..               ...                  ...\n",
      "82      Маккэри, Лео         Jeffries Jr.\n",
      "83      Маккэри, Лео      Outdoor Pajamas\n",
      "84      Маккэри, Лео          Sweet Daddy\n",
      "85      Маккэри, Лео      Too Many Mammas\n",
      "86      Маккэри, Лео  Why Husbands Go Mad\n",
      "\n",
      "[87 rows x 2 columns]\n"
     ]
    },
    {
     "data": {
      "text/html": [
       "<h3>Wrong Trousers, The :</h3>"
      ],
      "text/plain": [
       "<IPython.core.display.HTML object>"
      ]
     },
     "metadata": {},
     "output_type": "display_data"
    },
    {
     "data": {
      "text/html": [
       "<p>film not found ¯\\_(ツ)_/¯</p>"
      ],
      "text/plain": [
       "<IPython.core.display.HTML object>"
      ]
     },
     "metadata": {},
     "output_type": "display_data"
    },
    {
     "data": {
      "text/html": [
       "<h3>My Left Foot :</h3>"
      ],
      "text/plain": [
       "<IPython.core.display.HTML object>"
      ]
     },
     "metadata": {},
     "output_type": "display_data"
    },
    {
     "name": "stdout",
     "output_type": "stream",
     "text": [
      "Q746574\n",
      "  personLabel.value      filmLabel.value\n",
      "0     Шеридан, Джим               Братья\n",
      "1     Шеридан, Джим                 Поле\n",
      "2     Шеридан, Джим               Боксёр\n",
      "3     Шеридан, Джим  Разбогатей или умри\n",
      "4     Шеридан, Джим             Дом грёз\n",
      "5     Шеридан, Джим          Во имя отца\n",
      "6     Шеридан, Джим       Моя левая нога\n",
      "7     Шеридан, Джим            В Америке\n",
      "8     Шеридан, Джим      Скрижали судьбы\n"
     ]
    }
   ],
   "source": [
    "for movie in movies:\n",
    "    display(HTML('<h3>'+ movie + ' :</h3>'))\n",
    "    params = {'action' : 'wbsearchentities','format' : 'json','language' : 'en','search': movie}\n",
    "    res = requests.get(API_ENDPOINT, params = params)\n",
    "    try:\n",
    "        film = res.json()['search'][0]['id']\n",
    "        print(film)\n",
    "        res = Sparql(sparql, film);\n",
    "        res = res.reindex(columns=['personLabel.value', 'filmLabel.value'])\n",
    "        print(res)\n",
    "  \n",
    "    except:\n",
    "        display(HTML('<p>film not found ¯\\_(ツ)_/¯</p>'))"
   ]
  },
  {
   "cell_type": "code",
   "execution_count": null,
   "metadata": {},
   "outputs": [],
   "source": []
  }
 ],
 "metadata": {
  "kernelspec": {
   "display_name": "Python 3",
   "language": "python",
   "name": "python3"
  },
  "language_info": {
   "codemirror_mode": {
    "name": "ipython",
    "version": 3
   },
   "file_extension": ".py",
   "mimetype": "text/x-python",
   "name": "python",
   "nbconvert_exporter": "python",
   "pygments_lexer": "ipython3",
   "version": "3.7.4"
  }
 },
 "nbformat": 4,
 "nbformat_minor": 2
}
